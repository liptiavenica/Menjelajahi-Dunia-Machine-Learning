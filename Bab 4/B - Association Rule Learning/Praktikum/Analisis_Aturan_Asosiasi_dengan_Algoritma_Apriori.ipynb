{
  "nbformat": 4,
  "nbformat_minor": 0,
  "metadata": {
    "colab": {
      "provenance": [],
      "authorship_tag": "ABX9TyMW6HaNnDXeBbpc6xPwPcWS",
      "include_colab_link": true
    },
    "kernelspec": {
      "name": "python3",
      "display_name": "Python 3"
    },
    "language_info": {
      "name": "python"
    }
  },
  "cells": [
    {
      "cell_type": "markdown",
      "metadata": {
        "id": "view-in-github",
        "colab_type": "text"
      },
      "source": [
        "<a href=\"https://colab.research.google.com/github/liptiavenica/Menjelajahi-Dunia-Machine-Learning/blob/master/Bab%204/B%20-%20Association%20Rule%20Learning/Praktikum/Analisis_Aturan_Asosiasi_dengan_Algoritma_Apriori.ipynb\" target=\"_parent\"><img src=\"https://colab.research.google.com/assets/colab-badge.svg\" alt=\"Open In Colab\"/></a>"
      ]
    },
    {
      "cell_type": "markdown",
      "source": [
        "## Import Libraries"
      ],
      "metadata": {
        "id": "J5JcsoYJdL-j"
      }
    },
    {
      "cell_type": "code",
      "source": [
        "import pandas as pd\n",
        "from mlxtend.frequent_patterns import apriori, association_rules"
      ],
      "metadata": {
        "colab": {
          "base_uri": "https://localhost:8080/"
        },
        "id": "JrXaLv2sdP8y",
        "outputId": "f0789d5c-a153-494f-afde-80a50212753b"
      },
      "execution_count": 10,
      "outputs": [
        {
          "output_type": "stream",
          "name": "stderr",
          "text": [
            "/usr/local/lib/python3.10/dist-packages/ipykernel/ipkernel.py:283: DeprecationWarning: `should_run_async` will not call `transform_cell` automatically in the future. Please pass the result to `transformed_cell` argument and any exception that happen during thetransform in `preprocessing_exc_tuple` in IPython 7.17 and above.\n",
            "  and should_run_async(code)\n"
          ]
        }
      ]
    },
    {
      "cell_type": "markdown",
      "source": [
        "## Import Dataset"
      ],
      "metadata": {
        "id": "QFeVKie-dYmW"
      }
    },
    {
      "cell_type": "code",
      "source": [
        "data = pd.read_csv('store_data.csv', header=None)\n",
        "data.head()"
      ],
      "metadata": {
        "collapsed": true,
        "id": "8ki80siddcn_"
      },
      "execution_count": null,
      "outputs": []
    },
    {
      "cell_type": "markdown",
      "source": [
        "## Data Preprocessing"
      ],
      "metadata": {
        "id": "fYZ4HqIydxQ1"
      }
    },
    {
      "cell_type": "code",
      "source": [
        "records = []\n",
        "for i in range(0, 7501):\n",
        "    items = []\n",
        "    for j in range(0, 20):\n",
        "        item = str(data.values[i,j])\n",
        "        if(item != 'nan'):\n",
        "            items.append(item)\n",
        "    records.append(items)\n",
        "records"
      ],
      "metadata": {
        "collapsed": true,
        "id": "4WwpzjDnd2D1"
      },
      "execution_count": null,
      "outputs": []
    },
    {
      "cell_type": "code",
      "source": [
        "#library apriori membutuhkan argumen dalam bentuk dataframe 0/1 atau true/false\n",
        "records_df = pd.DataFrame(records)\n",
        "records_df.columns = range(1, len(records_df.columns) + 1)\n",
        "encoded_df = pd.get_dummies(records_df)\n",
        "encoded_df"
      ],
      "metadata": {
        "id": "i7m4wxBcf0Fn"
      },
      "execution_count": null,
      "outputs": []
    },
    {
      "cell_type": "markdown",
      "source": [
        "## Generate frequent itemsets using Apriori"
      ],
      "metadata": {
        "id": "a4J62fvaeb2b"
      }
    },
    {
      "cell_type": "code",
      "source": [
        "#dengan min sup. threshold 7%\n",
        "frequent_itemsets = apriori(encoded_df, min_support=0.07, use_colnames=True)\n",
        "frequent_itemsets\n",
        "#tidak bisa digunakan untuk mencari aturan asosiasi\n",
        "#karena hanya menghasilkan frequent 1-itemset"
      ],
      "metadata": {
        "id": "dKB_Z2ngefVG"
      },
      "execution_count": null,
      "outputs": []
    },
    {
      "cell_type": "code",
      "source": [
        "#dengan min sup. threshold 1%\n",
        "frequent_itemsets = apriori(encoded_df, min_support=0.01, use_colnames=True)\n",
        "frequent_itemsets"
      ],
      "metadata": {
        "id": "44QMx2kr6N6A"
      },
      "execution_count": null,
      "outputs": []
    },
    {
      "cell_type": "markdown",
      "source": [
        "## Generate association rules"
      ],
      "metadata": {
        "id": "inqbWbRt6wIS"
      }
    },
    {
      "cell_type": "code",
      "source": [
        "ar = association_rules(frequent_itemsets,\n",
        "                       metric=\"confidence\", min_threshold=0.30)\n",
        "ar"
      ],
      "metadata": {
        "id": "5WO9_XhL6qnu"
      },
      "execution_count": null,
      "outputs": []
    }
  ]
}